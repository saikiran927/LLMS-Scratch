{
 "cells": [
  {
   "cell_type": "code",
   "execution_count": 86,
   "metadata": {},
   "outputs": [
    {
     "name": "stdout",
     "output_type": "stream",
     "text": [
      "I HAD always thought Jack Gisburn rather a cheap genius--though a good fellow enough--so it was no great surprise to me to hear that, in the height of his glory, he had dropped his painting, married a rich widow, and established himself in a villa on the Riviera. (Though I rather thought it would have been Rome or Florence.)\n",
      "\n",
      "\"The height of his glory\"--that was what the women called it. I can hear Mrs. Gideon Thwing--his last Chicago sitter--deploring his unaccountable abdication. \"Of course it's going to send the value of my picture 'way up; but I don't think of that, Mr. Rickham--the loss to Arrt is all I think of.\" The word, on Mrs. Thwing's lips, multiplied its _rs_ as though they were reflected in an endless vista of mirrors. And it was not only the Mrs. Thwings who mourned. Had not the exquisite Hermia Croft, at the last Grafton Gallery show, stopped me before Gisburn's \"Moon-dancers\" to say, with tears in her eyes: \"We shall not look upon its like again\"?\n",
      "\n",
      "Well!--even through the prism of Hermia's tears I felt able to face the fact with equanimity. Poor Jack Gisburn! The women had made him--it was fitting that they should mourn him. Among his own sex fewer regrets were heard, and in his own trade hardly a murmur. Professional jealousy? Perhaps. If it were, the honour of the craft was vindicated by little Claude Nutley, who, in all good faith, brought out in the Burlington a very handsome \"obituary\" on Jack--one of those showy articles stocked with random technicalities that I have heard (I won't say by whom) compared to Gisburn's painting. And so--his resolve being apparently irrevocable--the discussion gradually died out, and, as Mrs. Thwing had predicted, the price of \"Gisburns\" went up.\n",
      "\n",
      "It was not till three years later that, in the course of a few weeks' idling on the Riviera, it suddenly occurred to me to wonder why Gisburn had given up his painting. On reflection, it really was a tempting problem. To accuse his wife would have been too easy--his fair sitters had been denied the solace of saying that Mrs. Gisburn had \"dragged him down.\" For Mrs. Gisburn--as such--had not existed till nearly a year after Jack's resolve had been taken. It might be that he had married her--since he liked his ease--because he didn't want to go on painting; but it would have been hard to prove that he had given up his painting because he had married her.\n",
      "\n",
      "Of course, if she had not dragged him down, she had equally, as Miss Croft contended, failed to \"lift him up\"--she had not led him back to the easel. To put the brush into his hand again--what a vocation for a wife! But Mrs. Gisburn appeared to have disdained it--and I felt it might be interesting to find out why.\n",
      "\n",
      "The desultory life of the Riviera lends itself to such purely academic speculations; and having, on my way to Monte Carlo, caught a glimpse of Jack's balustraded terraces between the pines, I had myself borne thither the next day.\n",
      "\n",
      "I found the couple at tea beneath their palm-trees; and Mrs. Gisburn's welcome was so genial that, in the ensuing weeks, I claimed it frequently. It was not that my hostess was \"interesting\": on that point I could have given Miss Croft the fullest reassurance. It was just because she was _not_ interesting--if I may be pardoned the bull--that I found her so. For Jack, all his life, had been surrounded by interesting women: they had fostered his art, it had been reared in the hot-house of their adulation. And it was therefore instructive to note what effect the \"deadening atmosphere of mediocrity\" (I quote Miss Croft) was having on him.\n",
      "\n",
      "I have mentioned that Mrs. Gisburn was rich; and it was immediately perceptible that her husband was extracting from this circumstance a delicate but substantial satisfaction. It is, as a rule, the people who scorn money who get most out of it; and Jack's elegant disdain of his wife's big balance enabled him, with an appearance of perfect good-breeding, to transmute it into objects of art and luxury. To the latter, I must add, he remained relatively indifferent; but he was buying Renaissance bronzes and eighteenth-century pictures with a discrimination that bespoke the amplest resources.\n",
      "\n",
      "\"Money's only excuse is to put beauty into circulation,\" was one of the axioms he laid down across the Sevres and silver of an exquisitely appointed luncheon-table, when, on a later day, I had again run over from Monte Carlo; and Mrs. Gisburn, beaming on him, added for my enlightenment: \"Jack is so morbidly sensitive to every form of beauty.\"\n",
      "\n",
      "Poor Jack! It had always been his fate to have women say such things of him: the fact should be set down in extenuation. What struck me now was that, for the first time, he resented the tone. I had seen him, so often, basking under similar tributes--was it the conjugal note that robbed them of their savour? No--for, oddly enough, it became apparent that he was fond of Mrs. Gisburn--fond enough not to see her absurdity. It was his own absurdity he seemed to be wincing under--his own attitude as an object for garlands and incense.\n",
      "\n",
      "\"My dear, since I've chucked painting people don't say that stuff about me--they say it about Victor Grindle,\" was his only protest, as he rose from the table and strolled out onto the sunlit terrace.\n",
      "\n",
      "I glanced after him, struck by his last word. Victor Grindle was, in fact, becoming the man of the moment--as Jack himself, one might put it, had been the man of the hour. The younger artist was said to have formed himself at my friend's feet, and I wondered if a tinge of jealousy underlay the latter's mysterious abdication. But no--for it was not till after that event that the _rose Dubarry_ drawing-rooms had begun to display their \"Grindles.\"\n",
      "\n",
      "I turned to Mrs. Gisburn, who had lingered to give a lump of sugar to her spaniel in the dining-room.\n",
      "\n",
      "\"Why _has_ he chucked painting?\" I asked abruptly.\n",
      "\n",
      "She raised her eyebrows with a hint of good-humoured surprise.\n",
      "\n",
      "\"Oh, he doesn't _have_ to now, you know; and I want him to enjoy himself,\" she said quite simply.\n",
      "\n",
      "I looked about the spacious white-panelled room, with its _famille-verte_ vases repeating the tones of the pale damask curtains, and its eighteenth-century pastels in delicate faded frames.\n",
      "\n",
      "\"Has he chucked his pictures too? I haven't seen a single one in the house.\"\n",
      "\n",
      "A slight shade of constraint crossed Mrs. Gisburn's open countenance. \"It's his ridiculous modesty, you know. He says they're not fit to have about; he's sent them all away except one--my portrait--and that I have to keep upstairs.\"\n",
      "\n",
      "His ridiculous modesty--Jack's modesty about his pictures? My curiosity was growing like the bean-stalk. I said persuasively to my hostess: \"I must really see your portrait, you know.\"\n",
      "\n",
      "She glanced out almost timorously at the terrace where her husband, lounging in a hooded chair, had lit a cigar and drawn the Russian deerhound's head between his knees.\n",
      "\n",
      "\"Well, come while he's not looking,\" she said, with a laugh that tried to hide her nervousness; and I followed her between the marble Emperors of the hall, and up the wide stairs with terra-cotta nymphs poised among flowers at each landing.\n",
      "\n",
      "In the dimmest corner of her boudoir, amid a profusion of delicate and distinguished objects, hung one of the familiar oval canvases, in the inevitable garlanded frame. The mere outline of the frame called up all Gisburn's past!\n",
      "\n",
      "Mrs. Gisburn drew back the window-curtains, moved aside a _jardiniere_ full of pink azaleas, pushed an arm-chair away, and said: \"If you stand here you can just manage to see it. I had it over the mantel-piece, but he wouldn't let it stay.\"\n",
      "\n",
      "Yes--I could just manage to see it--the first portrait of Jack's I had ever had to strain my eyes over! Usually they had the place of honour--say the central panel in a pale yellow or _rose Dubarry_ drawing-room, or a monumental easel placed so that it took the light through curtains of old Venetian point. The more modest place became the picture better; yet, as my eyes grew accustomed to the half-light, all the characteristic qualities came out--all the hesitations disguised as audacities, the tricks of prestidigitation by which, with such consummate skill, he managed to divert attention from the real business of the picture to some pretty irrelevance of detail. Mrs. Gisburn, presenting a neutral surface to work on--forming, as it were, so inevitably the background of her own picture--had lent herself in an unusual degree to the display of this false virtuosity. The picture was one of Jack's \"strongest,\" as his admirers would have put it--it represented, on his part, a swelling of muscles, a congesting of veins, a balancing, straddling and straining, that reminded one of the circus-clown's ironic efforts to lift a feather. It met, in short, at every point the demand of lovely woman to be painted \"strongly\" because she was tired of being painted \"sweetly\"--and yet not to lose an atom of the sweetness.\n",
      "\n",
      "\"It's the last he painted, you know,\" Mrs. Gisburn said with pardonable pride. \"The last but one,\" she corrected herself--\"but the other doesn't count, because he destroyed it.\"\n",
      "\n",
      "\"Destroyed it?\" I was about to follow up this clue when I heard a footstep and saw Jack himself on the threshold.\n",
      "\n",
      "As he stood there, his hands in the pockets of his velveteen coat, the thin brown waves of hair pushed back from his white forehead, his lean sunburnt cheeks furrowed by a smile that lifted the tips of a self-confident moustache, I felt to what a degree he had the same quality as his pictures--the quality of looking cleverer than he was.\n",
      "\n",
      "His wife glanced at him deprecatingly, but his eyes travelled past her to the portrait.\n",
      "\n",
      "\"Mr. Rickham wanted to see it,\" she began, as if excusing herself. He shrugged his shoulders, still smiling.\n",
      "\n",
      "\"Oh, Rickham found me out long ago,\" he said lightly; then, passing his arm through mine: \"Come and see the rest of the house.\"\n",
      "\n",
      "He showed it to me with a kind of naive suburban pride: the bath-rooms, the speaking-tubes, the dress-closets, the trouser-presses--all the complex simplifications of the millionaire's domestic economy. And whenever my wonder paid the expected tribute he said, throwing out his chest a little: \"Yes, I really don't see how people manage to live without that.\"\n",
      "\n",
      "Well--it was just the end one might have foreseen for him. Only he was, through it all and in spite of it all--as he had been through, and in spite of, his pictures--so handsome, so charming, so disarming, that one longed to cry out: \"Be dissatisfied with your leisure!\" as once one had longed to say: \"Be dissatisfied with your work!\"\n",
      "\n",
      "But, with the cry on my lips, my diagnosis suffered an unexpected check.\n",
      "\n",
      "\"This is my own lair,\" he said, leading me into a dark plain room at the end of the florid vista. It was square and brown and leathery: no \"effects\"; no bric-a-brac, none of the air of posing for reproduction in a picture weekly--above all, no least sign of ever having been used as a studio.\n",
      "\n",
      "The fact brought home to me the absolute finality of Jack's break with his old life.\n",
      "\n",
      "\"Don't you ever dabble with paint any more?\" I asked, still looking about for a trace of such activity.\n",
      "\n",
      "\"Never,\" he said briefly.\n",
      "\n",
      "\"Or water-colour--or etching?\"\n",
      "\n",
      "His confident eyes grew dim, and his cheeks paled a little under their handsome sunburn.\n",
      "\n",
      "\"Never think of it, my dear fellow--any more than if I'd never touched a brush.\"\n",
      "\n",
      "And his tone told me in a flash that he never thought of anything else.\n",
      "\n",
      "I moved away, instinctively embarrassed by my unexpected discovery; and as I turned, my eye fell on a small picture above the mantel-piece--the only object breaking the plain oak panelling of the room.\n",
      "\n",
      "\"Oh, by Jove!\" I said.\n",
      "\n",
      "It was a sketch of a donkey--an old tired donkey, standing in the rain under a wall.\n",
      "\n",
      "\"By Jove--a Stroud!\" I cried.\n",
      "\n",
      "He was silent; but I felt him close behind me, breathing a little quickly.\n",
      "\n",
      "\"What a wonder! Made with a dozen lines--but on everlasting foundations. You lucky chap, where did you get it?\"\n",
      "\n",
      "He answered slowly: \"Mrs. Stroud gave it to me.\"\n",
      "\n",
      "\"Ah--I didn't know you even knew the Strouds. He was such an inflexible hermit.\"\n",
      "\n",
      "\"I didn't--till after. . . . She sent for me to paint him when he was dead.\"\n",
      "\n",
      "\"When he was dead? You?\"\n",
      "\n",
      "I must have let a little too much amazement escape through my surprise, for he answered with a deprecating laugh: \"Yes--she's an awful simpleton, you know, Mrs. Stroud. Her only idea was to have him done by a fashionable painter--ah, poor Stroud! She thought it the surest way of proclaiming his greatness--of forcing it on a purblind public. And at the moment I was _the_ fashionable painter.\"\n",
      "\n",
      "\"Ah, poor Stroud--as you say. Was _that_ his history?\"\n",
      "\n",
      "\"That was his history. She believed in him, gloried in him--or thought she did. But she couldn't bear not to have all the drawing-rooms with her. She couldn't bear the fact that, on varnishing days, one could always get near enough to see his pictures. Poor woman! She's just a fragment groping for other fragments. Stroud is the only whole I ever knew.\"\n",
      "\n",
      "\"You ever knew? But you just said--\"\n",
      "\n",
      "Gisburn had a curious smile in his eyes.\n",
      "\n",
      "\"Oh, I knew him, and he knew me--only it happened after he was dead.\"\n",
      "\n",
      "I dropped my voice instinctively. \"When she sent for you?\"\n",
      "\n",
      "\"Yes--quite insensible to the irony. She wanted him vindicated--and by me!\"\n",
      "\n",
      "He laughed again, and threw back his head to look up at the sketch of the donkey. \"There were days when I couldn't look at that thing--couldn't face it. But I forced myself to put it here; and now it's cured me--cured me. That's the reason why I don't dabble any more, my dear Rickham; or rather Stroud himself is the reason.\"\n",
      "\n",
      "For the first time my idle curiosity about my companion turned into a serious desire to understand him better.\n",
      "\n",
      "\"I wish you'd tell me how it happened,\" I said.\n",
      "\n",
      "He stood looking up at the sketch, and twirling between his fingers a cigarette he had forgotten to light. Suddenly he turned toward me.\n",
      "\n",
      "\"I'd rather like to tell you--because I've always suspected you of loathing my work.\"\n",
      "\n",
      "I made a deprecating gesture, which he negatived with a good-humoured shrug.\n",
      "\n",
      "\"Oh, I didn't care a straw when I believed in myself--and now it's an added tie between us!\"\n",
      "\n",
      "He laughed slightly, without bitterness, and pushed one of the deep arm-chairs forward. \"There: make yourself comfortable--and here are the cigars you like.\"\n",
      "\n",
      "He placed them at my elbow and continued to wander up and down the room, stopping now and then beneath the picture.\n",
      "\n",
      "\"How it happened? I can tell you in five minutes--and it didn't take much longer to happen. . . . I can remember now how surprised and pleased I was when I got Mrs. Stroud's note. Of course, deep down, I had always _felt_ there was no one like him--only I had gone with the stream, echoed the usual platitudes about him, till I half got to think he was a failure, one of the kind that are left behind. By Jove, and he _was_ left behind--because he had come to stay! The rest of us had to let ourselves be swept along or go under, but he was high above the current--on everlasting foundations, as you say.\n",
      "\n",
      "\"Well, I went off to the house in my most egregious mood--rather moved, Lord forgive me, at the pathos of poor Stroud's career of failure being crowned by the glory of my painting him! Of course I meant to do the picture for nothing--I told Mrs. Stroud so when she began to stammer something about her poverty. I remember getting off a prodigious phrase about the honour being _mine_--oh, I was princely, my dear Rickham! I was posing to myself like one of my own sitters.\n",
      "\n",
      "\"Then I was taken up and left alone with him. I had sent all my traps in advance, and I had only to set up the easel and get to work. He had been dead only twenty-four hours, and he died suddenly, of heart disease, so that there had been no preliminary work of destruction--his face was clear and untouched. I had met him once or twice, years before, and thought him insignificant and dingy. Now I saw that he was superb.\n",
      "\n",
      "\"I was glad at first, with a merely aesthetic satisfaction: glad to have my hand on such a 'subject.' Then his strange life-likeness began to affect me queerly--as I blocked the head in I felt as if he were watching me do it. The sensation was followed by the thought: if he _were_ watching me, what would he say to my way of working? My strokes began to go a little wild--I felt nervous and uncertain.\n",
      "\n",
      "\"Once, when I looked up, I seemed to see a smile behind his close grayish beard--as if he had the secret, and were amusing himself by holding it back from me. That exasperated me still more. The secret? Why, I had a secret worth twenty of his! I dashed at the canvas furiously, and tried some of my bravura tricks. But they failed me, they crumbled. I saw that he wasn't watching the showy bits--I couldn't distract his attention; he just kept his eyes on the hard passages between. Those were the ones I had always shirked, or covered up with some lying paint. And how he saw through my lies!\n",
      "\n",
      "\"I looked up again, and caught sight of that sketch of the donkey hanging on the wall near his bed. His wife told me afterward it was the last thing he had done--just a note taken with a shaking hand, when he was down in Devonshire recovering from a previous heart attack. Just a note! But it tells his whole history. There are years of patient scornful persistence in every line. A man who had swum with the current could never have learned that mighty up-stream stroke. . . .\n",
      "\n",
      "\"I turned back to my work, and went on groping and muddling; then I looked at the donkey again. I saw that, when Stroud laid in the first stroke, he knew just what the end would be. He had possessed his subject, absorbed it, recreated it. When had I done that with any of my things? They hadn't been born of me--I had just adopted them. . . .\n",
      "\n",
      "\"Hang it, Rickham, with that face watching me I couldn't do another stroke. The plain truth was, I didn't know where to put it--_I had never known_. Only, with my sitters and my public, a showy splash of colour covered up the fact--I just threw paint into their faces. . . . Well, paint was the one medium those dead eyes could see through--see straight to the tottering foundations underneath. Don't you know how, in talking a foreign language, even fluently, one says half the time not what one wants to but what one can? Well--that was the way I painted; and as he lay there and watched me, the thing they called my 'technique' collapsed like a house of cards. He didn't sneer, you understand, poor Stroud--he just lay there quietly watching, and on his lips, through the gray beard, I seemed to hear the question: 'Are you sure you know where you're coming out?'\n",
      "\n",
      "\"If I could have painted that face, with that question on it, I should have done a great thing. The next greatest thing was to see that I couldn't--and that grace was given me. But, oh, at that minute, Rickham, was there anything on earth I wouldn't have given to have Stroud alive before me, and to hear him say: 'It's not too late--I'll show you how'?\n",
      "\n",
      "\"It _was_ too late--it would have been, even if he'd been alive. I packed up my traps, and went down and told Mrs. Stroud. Of course I didn't tell her _that_--it would have been Greek to her. I simply said I couldn't paint him, that I was too moved. She rather liked the idea--she's so romantic! It was that that made her give me the donkey. But she was terribly upset at not getting the portrait--she did so want him 'done' by some one showy! At first I was afraid she wouldn't let me off--and at my wits' end I suggested Grindle. Yes, it was I who started Grindle: I told Mrs. Stroud he was the 'coming' man, and she told somebody else, and so it got to be true. . . . And he painted Stroud without wincing; and she hung the picture among her husband's things. . . .\"\n",
      "\n",
      "He flung himself down in the arm-chair near mine, laid back his head, and clasping his arms beneath it, looked up at the picture above the chimney-piece.\n",
      "\n",
      "\"I like to fancy that Stroud himself would have given it to me, if he'd been able to say what he thought that day.\"\n",
      "\n",
      "And, in answer to a question I put half-mechanically--\"Begin again?\" he flashed out. \"When the one thing that brings me anywhere near him is that I knew enough to leave off?\"\n",
      "\n",
      "He stood up and laid his hand on my shoulder with a laugh. \"Only the irony of it is that I _am_ still painting--since Grindle's doing it for me! The Strouds stand alone, and happen once--but there's no exterminating our kind of art.\"\n"
     ]
    }
   ],
   "source": [
    "\n",
    "with open('verdict_text','r') as file:\n",
    "    content=file.read()\n",
    "    print(content)\n"
   ]
  },
  {
   "cell_type": "code",
   "execution_count": 6,
   "metadata": {},
   "outputs": [
    {
     "name": "stdout",
     "output_type": "stream",
     "text": [
      "['I', 'HAD', 'always', 'thought', 'Jack', 'Gisburn', 'rather', 'a', 'cheap', 'genius--though', 'a', 'good', 'fellow', 'enough--so', 'it', 'was', 'no', 'great', 'surprise', 'to', 'me', 'to', 'hear', 'that,', 'in', 'the', 'height', 'of', 'his', 'glory,', 'he', 'had', 'dropped', 'his', 'painting,', 'married', 'a', 'rich', 'widow,', 'and', 'established', 'himself', 'in', 'a', 'villa', 'on', 'the', 'Riviera.', '(Though', 'I', 'rather', 'thought', 'it', 'would', 'have', 'been', 'Rome', 'or', 'Florence.)', '\"The', 'height', 'of', 'his', 'glory\"--that', 'was', 'what', 'the', 'women', 'called', 'it.', 'I', 'can', 'hear', 'Mrs.', 'Gideon', 'Thwing--his', 'last', 'Chicago', 'sitter--deploring', 'his', 'unaccountable', 'abdication.', '\"Of', 'course', \"it's\", 'going', 'to', 'send', 'the', 'value', 'of', 'my', 'picture', \"'way\", 'up;', 'but', 'I', \"don't\", 'think', 'of', 'that,', 'Mr.', 'Rickham--the', 'loss', 'to', 'Arrt', 'is', 'all', 'I', 'think', 'of.\"', 'The', 'word,', 'on', 'Mrs.', \"Thwing's\", 'lips,', 'multiplied', 'its', '_rs_', 'as', 'though', 'they', 'were', 'reflected', 'in', 'an', 'endless', 'vista', 'of', 'mirrors.', 'And', 'it', 'was', 'not', 'only', 'the', 'Mrs.', 'Thwings', 'who', 'mourned.', 'Had', 'not', 'the', 'exquisite', 'Hermia', 'Croft,', 'at', 'the', 'last', 'Grafton', 'Gallery', 'show,', 'stopped', 'me', 'before', \"Gisburn's\", '\"Moon-dancers\"', 'to', 'say,', 'with', 'tears', 'in', 'her', 'eyes:', '\"We', 'shall', 'not', 'look', 'upon', 'its', 'like', 'again\"?', 'Well!--even', 'through', 'the', 'prism', 'of', \"Hermia's\", 'tears', 'I', 'felt', 'able', 'to', 'face', 'the', 'fact', 'with', 'equanimity.', 'Poor', 'Jack', 'Gisburn!', 'The', 'women', 'had', 'made', 'him--it', 'was', 'fitting', 'that', 'they', 'should', 'mourn', 'him.', 'Among', 'his', 'own', 'sex', 'fewer', 'regrets', 'were', 'heard,', 'and', 'in', 'his', 'own', 'trade', 'hardly', 'a', 'murmur.', 'Professional', 'jealousy?', 'Perhaps.', 'If', 'it', 'were,', 'the', 'honour', 'of', 'the', 'craft', 'was', 'vindicated', 'by', 'little', 'Claude', 'Nutley,', 'who,', 'in', 'all', 'good', 'faith,', 'brought', 'out', 'in', 'the', 'Burlington', 'a', 'very', 'handsome', '\"obituary\"', 'on', 'Jack--one', 'of', 'those', 'showy', 'articles', 'stocked', 'with', 'random', 'technicalities', 'that', 'I', 'have', 'heard', '(I', \"won't\", 'say', 'by', 'whom)', 'compared', 'to', \"Gisburn's\", 'painting.', 'And', 'so--his', 'resolve', 'being', 'apparently', 'irrevocable--the', 'discussion', 'gradually', 'died', 'out,', 'and,', 'as', 'Mrs.', 'Thwing', 'had', 'predicted,', 'the', 'price', 'of', '\"Gisburns\"', 'went', 'up.', 'It', 'was', 'not', 'till', 'three', 'years', 'later', 'that,', 'in', 'the', 'course', 'of', 'a', 'few', \"weeks'\", 'idling', 'on', 'the', 'Riviera,', 'it', 'suddenly', 'occurred', 'to', 'me', 'to', 'wonder', 'why', 'Gisburn', 'had', 'given', 'up', 'his', 'painting.', 'On', 'reflection,', 'it', 'really', 'was', 'a', 'tempting', 'problem.', 'To', 'accuse', 'his', 'wife', 'would', 'have', 'been', 'too', 'easy--his', 'fair', 'sitters', 'had', 'been', 'denied', 'the', 'solace', 'of', 'saying', 'that', 'Mrs.', 'Gisburn', 'had', '\"dragged', 'him', 'down.\"', 'For', 'Mrs.', 'Gisburn--as', 'such--had', 'not', 'existed', 'till', 'nearly', 'a', 'year', 'after', \"Jack's\", 'resolve', 'had', 'been', 'taken.', 'It', 'might', 'be', 'that', 'he', 'had', 'married', 'her--since', 'he', 'liked', 'his', 'ease--because', 'he', \"didn't\", 'want', 'to', 'go', 'on', 'painting;', 'but', 'it', 'would', 'have', 'been', 'hard', 'to', 'prove', 'that', 'he', 'had', 'given', 'up', 'his', 'painting', 'because', 'he', 'had', 'married', 'her.', 'Of', 'course,', 'if', 'she', 'had', 'not', 'dragged', 'him', 'down,', 'she', 'had', 'equally,', 'as', 'Miss', 'Croft', 'contended,', 'failed', 'to', '\"lift', 'him', 'up\"--she', 'had', 'not', 'led', 'him', 'back', 'to', 'the', 'easel.', 'To', 'put', 'the', 'brush', 'into', 'his', 'hand', 'again--what', 'a', 'vocation', 'for', 'a', 'wife!', 'But', 'Mrs.', 'Gisburn', 'appeared', 'to', 'have', 'disdained', 'it--and', 'I', 'felt', 'it', 'might', 'be', 'interesting', 'to', 'find', 'out', 'why.', 'The', 'desultory', 'life', 'of', 'the', 'Riviera', 'lends', 'itself', 'to', 'such', 'purely', 'academic', 'speculations;', 'and', 'having,', 'on', 'my', 'way', 'to', 'Monte', 'Carlo,', 'caught', 'a', 'glimpse', 'of', \"Jack's\", 'balustraded', 'terraces', 'between', 'the', 'pines,', 'I', 'had', 'myself', 'borne', 'thither', 'the', 'next', 'day.', 'I', 'found', 'the', 'couple', 'at', 'tea', 'beneath', 'their', 'palm-trees;', 'and', 'Mrs.', \"Gisburn's\", 'welcome', 'was', 'so', 'genial', 'that,', 'in', 'the', 'ensuing', 'weeks,', 'I', 'claimed', 'it', 'frequently.', 'It', 'was', 'not', 'that', 'my', 'hostess', 'was', '\"interesting\":', 'on', 'that', 'point', 'I', 'could', 'have', 'given', 'Miss', 'Croft', 'the', 'fullest', 'reassurance.', 'It', 'was', 'just', 'because', 'she', 'was', '_not_', 'interesting--if', 'I', 'may', 'be', 'pardoned', 'the', 'bull--that', 'I', 'found', 'her', 'so.', 'For', 'Jack,', 'all', 'his', 'life,', 'had', 'been', 'surrounded', 'by', 'interesting', 'women:', 'they', 'had', 'fostered', 'his', 'art,', 'it', 'had', 'been', 'reared', 'in', 'the', 'hot-house', 'of', 'their', 'adulation.', 'And', 'it', 'was', 'therefore', 'instructive', 'to', 'note', 'what', 'effect', 'the', '\"deadening', 'atmosphere', 'of', 'mediocrity\"', '(I', 'quote', 'Miss', 'Croft)', 'was', 'having', 'on', 'him.', 'I', 'have', 'mentioned', 'that', 'Mrs.', 'Gisburn', 'was', 'rich;', 'and', 'it', 'was', 'immediately', 'perceptible', 'that', 'her', 'husband', 'was', 'extracting', 'from', 'this', 'circumstance', 'a', 'delicate', 'but', 'substantial', 'satisfaction.', 'It', 'is,', 'as', 'a', 'rule,', 'the', 'people', 'who', 'scorn', 'money', 'who', 'get', 'most', 'out', 'of', 'it;', 'and', \"Jack's\", 'elegant', 'disdain', 'of', 'his', \"wife's\", 'big', 'balance', 'enabled', 'him,', 'with', 'an', 'appearance', 'of', 'perfect', 'good-breeding,', 'to', 'transmute', 'it', 'into', 'objects', 'of', 'art', 'and', 'luxury.', 'To', 'the', 'latter,', 'I', 'must', 'add,', 'he', 'remained', 'relatively', 'indifferent;', 'but', 'he', 'was', 'buying', 'Renaissance', 'bronzes', 'and', 'eighteenth-century', 'pictures', 'with', 'a', 'discrimination', 'that', 'bespoke', 'the', 'amplest', 'resources.', '\"Money\\'s', 'only', 'excuse', 'is', 'to', 'put', 'beauty', 'into', 'circulation,\"', 'was', 'one', 'of', 'the', 'axioms', 'he', 'laid', 'down', 'across', 'the', 'Sevres', 'and', 'silver', 'of', 'an', 'exquisitely', 'appointed', 'luncheon-table,', 'when,', 'on', 'a', 'later', 'day,', 'I', 'had', 'again', 'run', 'over', 'from', 'Monte', 'Carlo;', 'and', 'Mrs.', 'Gisburn,', 'beaming', 'on', 'him,', 'added', 'for', 'my', 'enlightenment:', '\"Jack', 'is', 'so', 'morbidly', 'sensitive', 'to', 'every', 'form', 'of', 'beauty.\"', 'Poor', 'Jack!', 'It', 'had', 'always', 'been', 'his', 'fate', 'to', 'have', 'women', 'say', 'such', 'things', 'of', 'him:', 'the', 'fact', 'should', 'be', 'set', 'down', 'in', 'extenuation.', 'What', 'struck', 'me', 'now', 'was', 'that,', 'for', 'the', 'first', 'time,', 'he', 'resented', 'the', 'tone.', 'I', 'had', 'seen', 'him,', 'so', 'often,', 'basking', 'under', 'similar', 'tributes--was', 'it', 'the', 'conjugal', 'note', 'that', 'robbed', 'them', 'of', 'their', 'savour?', 'No--for,', 'oddly', 'enough,', 'it', 'became', 'apparent', 'that', 'he', 'was', 'fond', 'of', 'Mrs.', 'Gisburn--fond', 'enough', 'not', 'to', 'see', 'her', 'absurdity.', 'It', 'was', 'his', 'own', 'absurdity', 'he', 'seemed', 'to', 'be', 'wincing', 'under--his', 'own', 'attitude', 'as', 'an', 'object', 'for', 'garlands', 'and', 'incense.', '\"My', 'dear,', 'since', \"I've\", 'chucked', 'painting', 'people', \"don't\", 'say', 'that', 'stuff', 'about', 'me--they', 'say', 'it', 'about', 'Victor', 'Grindle,\"', 'was', 'his', 'only', 'protest,', 'as', 'he', 'rose', 'from', 'the', 'table', 'and', 'strolled', 'out', 'onto', 'the', 'sunlit', 'terrace.', 'I', 'glanced', 'after', 'him,', 'struck', 'by', 'his', 'last', 'word.', 'Victor', 'Grindle', 'was,', 'in', 'fact,', 'becoming', 'the', 'man', 'of', 'the', 'moment--as', 'Jack', 'himself,', 'one', 'might', 'put', 'it,', 'had', 'been', 'the', 'man', 'of', 'the', 'hour.', 'The', 'younger', 'artist', 'was', 'said', 'to', 'have', 'formed', 'himself', 'at', 'my', \"friend's\", 'feet,', 'and', 'I', 'wondered', 'if', 'a', 'tinge', 'of', 'jealousy', 'underlay', 'the', \"latter's\", 'mysterious', 'abdication.', 'But', 'no--for', 'it', 'was', 'not', 'till', 'after', 'that', 'event', 'that', 'the', '_rose', 'Dubarry_', 'drawing-rooms', 'had', 'begun', 'to', 'display', 'their', '\"Grindles.\"', 'I', 'turned', 'to', 'Mrs.', 'Gisburn,', 'who', 'had', 'lingered', 'to', 'give', 'a', 'lump', 'of', 'sugar', 'to', 'her', 'spaniel', 'in', 'the', 'dining-room.', '\"Why', '_has_', 'he', 'chucked', 'painting?\"', 'I', 'asked', 'abruptly.', 'She', 'raised', 'her', 'eyebrows', 'with', 'a', 'hint', 'of', 'good-humoured', 'surprise.', '\"Oh,', 'he', \"doesn't\", '_have_', 'to', 'now,', 'you', 'know;', 'and', 'I', 'want', 'him', 'to', 'enjoy', 'himself,\"', 'she', 'said', 'quite', 'simply.', 'I', 'looked', 'about', 'the', 'spacious', 'white-panelled', 'room,', 'with', 'its', '_famille-verte_', 'vases', 'repeating', 'the', 'tones', 'of', 'the', 'pale', 'damask', 'curtains,', 'and', 'its', 'eighteenth-century', 'pastels', 'in', 'delicate', 'faded', 'frames.', '\"Has', 'he', 'chucked', 'his', 'pictures', 'too?', 'I', \"haven't\", 'seen', 'a', 'single', 'one', 'in', 'the', 'house.\"', 'A', 'slight', 'shade', 'of', 'constraint', 'crossed', 'Mrs.', \"Gisburn's\", 'open', 'countenance.', '\"It\\'s', 'his', 'ridiculous', 'modesty,', 'you', 'know.', 'He', 'says', \"they're\", 'not', 'fit', 'to', 'have', 'about;', \"he's\", 'sent', 'them', 'all', 'away', 'except', 'one--my', 'portrait--and', 'that', 'I', 'have', 'to', 'keep', 'upstairs.\"', 'His', 'ridiculous', \"modesty--Jack's\", 'modesty', 'about', 'his', 'pictures?', 'My', 'curiosity', 'was', 'growing', 'like', 'the', 'bean-stalk.', 'I', 'said', 'persuasively', 'to', 'my', 'hostess:', '\"I', 'must', 'really', 'see', 'your', 'portrait,', 'you', 'know.\"', 'She', 'glanced', 'out', 'almost', 'timorously', 'at', 'the', 'terrace', 'where', 'her', 'husband,', 'lounging', 'in', 'a', 'hooded', 'chair,', 'had', 'lit', 'a', 'cigar', 'and', 'drawn', 'the', 'Russian', \"deerhound's\", 'head', 'between', 'his', 'knees.', '\"Well,', 'come', 'while', \"he's\", 'not', 'looking,\"', 'she', 'said,', 'with', 'a', 'laugh', 'that', 'tried', 'to', 'hide', 'her', 'nervousness;', 'and', 'I', 'followed', 'her', 'between', 'the', 'marble', 'Emperors', 'of', 'the', 'hall,', 'and', 'up', 'the', 'wide', 'stairs', 'with', 'terra-cotta', 'nymphs', 'poised', 'among', 'flowers', 'at', 'each', 'landing.', 'In', 'the', 'dimmest', 'corner', 'of', 'her', 'boudoir,', 'amid', 'a', 'profusion', 'of', 'delicate', 'and', 'distinguished', 'objects,', 'hung', 'one', 'of', 'the', 'familiar', 'oval', 'canvases,', 'in', 'the', 'inevitable', 'garlanded', 'frame.', 'The', 'mere', 'outline', 'of', 'the', 'frame', 'called', 'up', 'all', \"Gisburn's\", 'past!', 'Mrs.', 'Gisburn', 'drew', 'back', 'the', 'window-curtains,', 'moved', 'aside', 'a', '_jardiniere_', 'full', 'of', 'pink', 'azaleas,', 'pushed', 'an', 'arm-chair', 'away,', 'and', 'said:', '\"If', 'you', 'stand', 'here', 'you', 'can', 'just', 'manage', 'to', 'see', 'it.', 'I', 'had', 'it', 'over', 'the', 'mantel-piece,', 'but', 'he', \"wouldn't\", 'let', 'it', 'stay.\"', 'Yes--I', 'could', 'just', 'manage', 'to', 'see', 'it--the', 'first', 'portrait', 'of', \"Jack's\", 'I', 'had', 'ever', 'had', 'to', 'strain', 'my', 'eyes', 'over!', 'Usually', 'they', 'had', 'the', 'place', 'of', 'honour--say', 'the', 'central', 'panel', 'in', 'a', 'pale', 'yellow', 'or', '_rose', 'Dubarry_', 'drawing-room,', 'or', 'a', 'monumental', 'easel', 'placed', 'so', 'that', 'it', 'took', 'the', 'light', 'through', 'curtains', 'of', 'old', 'Venetian', 'point.', 'The', 'more', 'modest', 'place', 'became', 'the', 'picture', 'better;', 'yet,', 'as', 'my', 'eyes', 'grew', 'accustomed', 'to', 'the', 'half-light,', 'all', 'the', 'characteristic', 'qualities', 'came', 'out--all', 'the', 'hesitations', 'disguised', 'as', 'audacities,', 'the', 'tricks', 'of', 'prestidigitation', 'by', 'which,', 'with', 'such', 'consummate', 'skill,', 'he', 'managed', 'to', 'divert', 'attention', 'from', 'the', 'real', 'business', 'of', 'the', 'picture', 'to', 'some', 'pretty', 'irrelevance', 'of', 'detail.', 'Mrs.', 'Gisburn,', 'presenting', 'a', 'neutral', 'surface', 'to', 'work', 'on--forming,', 'as', 'it', 'were,', 'so', 'inevitably', 'the', 'background', 'of', 'her', 'own', 'picture--had', 'lent', 'herself', 'in', 'an', 'unusual', 'degree', 'to', 'the', 'display', 'of', 'this', 'false', 'virtuosity.', 'The', 'picture', 'was', 'one', 'of', \"Jack's\", '\"strongest,\"', 'as', 'his', 'admirers', 'would', 'have', 'put', 'it--it', 'represented,', 'on', 'his', 'part,', 'a', 'swelling', 'of', 'muscles,', 'a', 'congesting', 'of', 'veins,', 'a', 'balancing,', 'straddling', 'and', 'straining,', 'that', 'reminded', 'one', 'of', 'the', \"circus-clown's\", 'ironic', 'efforts', 'to', 'lift', 'a', 'feather.', 'It', 'met,', 'in', 'short,', 'at', 'every', 'point', 'the', 'demand', 'of', 'lovely', 'woman', 'to', 'be', 'painted', '\"strongly\"', 'because', 'she', 'was', 'tired', 'of', 'being', 'painted', '\"sweetly\"--and', 'yet', 'not', 'to', 'lose', 'an', 'atom', 'of', 'the', 'sweetness.', '\"It\\'s', 'the', 'last', 'he', 'painted,', 'you', 'know,\"', 'Mrs.', 'Gisburn', 'said', 'with', 'pardonable', 'pride.', '\"The', 'last', 'but', 'one,\"', 'she', 'corrected', 'herself--\"but', 'the', 'other', \"doesn't\", 'count,', 'because', 'he', 'destroyed', 'it.\"', '\"Destroyed', 'it?\"', 'I', 'was', 'about', 'to', 'follow', 'up', 'this', 'clue', 'when', 'I', 'heard', 'a', 'footstep', 'and', 'saw', 'Jack', 'himself', 'on', 'the', 'threshold.', 'As', 'he', 'stood', 'there,', 'his', 'hands', 'in', 'the', 'pockets', 'of', 'his', 'velveteen', 'coat,', 'the', 'thin', 'brown', 'waves', 'of', 'hair', 'pushed', 'back', 'from', 'his', 'white', 'forehead,', 'his', 'lean', 'sunburnt', 'cheeks', 'furrowed', 'by', 'a', 'smile', 'that', 'lifted', 'the', 'tips', 'of', 'a', 'self-confident', 'moustache,', 'I', 'felt', 'to', 'what', 'a', 'degree', 'he', 'had', 'the', 'same', 'quality', 'as', 'his', 'pictures--the', 'quality', 'of', 'looking', 'cleverer', 'than', 'he', 'was.', 'His', 'wife', 'glanced', 'at', 'him', 'deprecatingly,', 'but', 'his', 'eyes', 'travelled', 'past', 'her', 'to', 'the', 'portrait.', '\"Mr.', 'Rickham', 'wanted', 'to', 'see', 'it,\"', 'she', 'began,', 'as', 'if', 'excusing', 'herself.', 'He', 'shrugged', 'his', 'shoulders,', 'still', 'smiling.', '\"Oh,', 'Rickham', 'found', 'me', 'out', 'long', 'ago,\"', 'he', 'said', 'lightly;', 'then,', 'passing', 'his', 'arm', 'through', 'mine:', '\"Come', 'and', 'see', 'the', 'rest', 'of', 'the', 'house.\"', 'He', 'showed', 'it', 'to', 'me', 'with', 'a', 'kind', 'of', 'naive', 'suburban', 'pride:', 'the', 'bath-rooms,', 'the', 'speaking-tubes,', 'the', 'dress-closets,', 'the', 'trouser-presses--all', 'the', 'complex', 'simplifications', 'of', 'the', \"millionaire's\", 'domestic', 'economy.', 'And', 'whenever', 'my', 'wonder', 'paid', 'the', 'expected', 'tribute', 'he', 'said,', 'throwing', 'out', 'his', 'chest', 'a', 'little:', '\"Yes,', 'I', 'really', \"don't\", 'see', 'how', 'people', 'manage', 'to', 'live', 'without', 'that.\"', 'Well--it', 'was', 'just', 'the', 'end', 'one', 'might', 'have', 'foreseen', 'for', 'him.', 'Only', 'he', 'was,', 'through', 'it', 'all', 'and', 'in', 'spite', 'of', 'it', 'all--as', 'he', 'had', 'been', 'through,', 'and', 'in', 'spite', 'of,', 'his', 'pictures--so', 'handsome,', 'so', 'charming,', 'so', 'disarming,', 'that', 'one', 'longed', 'to', 'cry', 'out:', '\"Be', 'dissatisfied', 'with', 'your', 'leisure!\"', 'as', 'once', 'one', 'had', 'longed', 'to', 'say:', '\"Be', 'dissatisfied', 'with', 'your', 'work!\"', 'But,', 'with', 'the', 'cry', 'on', 'my', 'lips,', 'my', 'diagnosis', 'suffered', 'an', 'unexpected', 'check.', '\"This', 'is', 'my', 'own', 'lair,\"', 'he', 'said,', 'leading', 'me', 'into', 'a', 'dark', 'plain', 'room', 'at', 'the', 'end', 'of', 'the', 'florid', 'vista.', 'It', 'was', 'square', 'and', 'brown', 'and', 'leathery:', 'no', '\"effects\";', 'no', 'bric-a-brac,', 'none', 'of', 'the', 'air', 'of', 'posing', 'for', 'reproduction', 'in', 'a', 'picture', 'weekly--above', 'all,', 'no', 'least', 'sign', 'of', 'ever', 'having', 'been', 'used', 'as', 'a', 'studio.', 'The', 'fact', 'brought', 'home', 'to', 'me', 'the', 'absolute', 'finality', 'of', \"Jack's\", 'break', 'with', 'his', 'old', 'life.', '\"Don\\'t', 'you', 'ever', 'dabble', 'with', 'paint', 'any', 'more?\"', 'I', 'asked,', 'still', 'looking', 'about', 'for', 'a', 'trace', 'of', 'such', 'activity.', '\"Never,\"', 'he', 'said', 'briefly.', '\"Or', 'water-colour--or', 'etching?\"', 'His', 'confident', 'eyes', 'grew', 'dim,', 'and', 'his', 'cheeks', 'paled', 'a', 'little', 'under', 'their', 'handsome', 'sunburn.', '\"Never', 'think', 'of', 'it,', 'my', 'dear', 'fellow--any', 'more', 'than', 'if', \"I'd\", 'never', 'touched', 'a', 'brush.\"', 'And', 'his', 'tone', 'told', 'me', 'in', 'a', 'flash', 'that', 'he', 'never', 'thought', 'of', 'anything', 'else.', 'I', 'moved', 'away,', 'instinctively', 'embarrassed', 'by', 'my', 'unexpected', 'discovery;', 'and', 'as', 'I', 'turned,', 'my', 'eye', 'fell', 'on', 'a', 'small', 'picture', 'above', 'the', 'mantel-piece--the', 'only', 'object', 'breaking', 'the', 'plain', 'oak', 'panelling', 'of', 'the', 'room.', '\"Oh,', 'by', 'Jove!\"', 'I', 'said.', 'It', 'was', 'a', 'sketch', 'of', 'a', 'donkey--an', 'old', 'tired', 'donkey,', 'standing', 'in', 'the', 'rain', 'under', 'a', 'wall.', '\"By', 'Jove--a', 'Stroud!\"', 'I', 'cried.', 'He', 'was', 'silent;', 'but', 'I', 'felt', 'him', 'close', 'behind', 'me,', 'breathing', 'a', 'little', 'quickly.', '\"What', 'a', 'wonder!', 'Made', 'with', 'a', 'dozen', 'lines--but', 'on', 'everlasting', 'foundations.', 'You', 'lucky', 'chap,', 'where', 'did', 'you', 'get', 'it?\"', 'He', 'answered', 'slowly:', '\"Mrs.', 'Stroud', 'gave', 'it', 'to', 'me.\"', '\"Ah--I', \"didn't\", 'know', 'you', 'even', 'knew', 'the', 'Strouds.', 'He', 'was', 'such', 'an', 'inflexible', 'hermit.\"', '\"I', \"didn't--till\", 'after.', '.', '.', '.', 'She', 'sent', 'for', 'me', 'to', 'paint', 'him', 'when', 'he', 'was', 'dead.\"', '\"When', 'he', 'was', 'dead?', 'You?\"', 'I', 'must', 'have', 'let', 'a', 'little', 'too', 'much', 'amazement', 'escape', 'through', 'my', 'surprise,', 'for', 'he', 'answered', 'with', 'a', 'deprecating', 'laugh:', '\"Yes--she\\'s', 'an', 'awful', 'simpleton,', 'you', 'know,', 'Mrs.', 'Stroud.', 'Her', 'only', 'idea', 'was', 'to', 'have', 'him', 'done', 'by', 'a', 'fashionable', 'painter--ah,', 'poor', 'Stroud!', 'She', 'thought', 'it', 'the', 'surest', 'way', 'of', 'proclaiming', 'his', 'greatness--of', 'forcing', 'it', 'on', 'a', 'purblind', 'public.', 'And', 'at', 'the', 'moment', 'I', 'was', '_the_', 'fashionable', 'painter.\"', '\"Ah,', 'poor', 'Stroud--as', 'you', 'say.', 'Was', '_that_', 'his', 'history?\"', '\"That', 'was', 'his', 'history.', 'She', 'believed', 'in', 'him,', 'gloried', 'in', 'him--or', 'thought', 'she', 'did.', 'But', 'she', \"couldn't\", 'bear', 'not', 'to', 'have', 'all', 'the', 'drawing-rooms', 'with', 'her.', 'She', \"couldn't\", 'bear', 'the', 'fact', 'that,', 'on', 'varnishing', 'days,', 'one', 'could', 'always', 'get', 'near', 'enough', 'to', 'see', 'his', 'pictures.', 'Poor', 'woman!', \"She's\", 'just', 'a', 'fragment', 'groping', 'for', 'other', 'fragments.', 'Stroud', 'is', 'the', 'only', 'whole', 'I', 'ever', 'knew.\"', '\"You', 'ever', 'knew?', 'But', 'you', 'just', 'said--\"', 'Gisburn', 'had', 'a', 'curious', 'smile', 'in', 'his', 'eyes.', '\"Oh,', 'I', 'knew', 'him,', 'and', 'he', 'knew', 'me--only', 'it', 'happened', 'after', 'he', 'was', 'dead.\"', 'I', 'dropped', 'my', 'voice', 'instinctively.', '\"When', 'she', 'sent', 'for', 'you?\"', '\"Yes--quite', 'insensible', 'to', 'the', 'irony.', 'She', 'wanted', 'him', 'vindicated--and', 'by', 'me!\"', 'He', 'laughed', 'again,', 'and', 'threw', 'back', 'his', 'head', 'to', 'look', 'up', 'at', 'the', 'sketch', 'of', 'the', 'donkey.', '\"There', 'were', 'days', 'when', 'I', \"couldn't\", 'look', 'at', 'that', \"thing--couldn't\", 'face', 'it.', 'But', 'I', 'forced', 'myself', 'to', 'put', 'it', 'here;', 'and', 'now', \"it's\", 'cured', 'me--cured', 'me.', \"That's\", 'the', 'reason', 'why', 'I', \"don't\", 'dabble', 'any', 'more,', 'my', 'dear', 'Rickham;', 'or', 'rather', 'Stroud', 'himself', 'is', 'the', 'reason.\"', 'For', 'the', 'first', 'time', 'my', 'idle', 'curiosity', 'about', 'my', 'companion', 'turned', 'into', 'a', 'serious', 'desire', 'to', 'understand', 'him', 'better.', '\"I', 'wish', \"you'd\", 'tell', 'me', 'how', 'it', 'happened,\"', 'I', 'said.', 'He', 'stood', 'looking', 'up', 'at', 'the', 'sketch,', 'and', 'twirling', 'between', 'his', 'fingers', 'a', 'cigarette', 'he', 'had', 'forgotten', 'to', 'light.', 'Suddenly', 'he', 'turned', 'toward', 'me.', '\"I\\'d', 'rather', 'like', 'to', 'tell', 'you--because', \"I've\", 'always', 'suspected', 'you', 'of', 'loathing', 'my', 'work.\"', 'I', 'made', 'a', 'deprecating', 'gesture,', 'which', 'he', 'negatived', 'with', 'a', 'good-humoured', 'shrug.', '\"Oh,', 'I', \"didn't\", 'care', 'a', 'straw', 'when', 'I', 'believed', 'in', 'myself--and', 'now', \"it's\", 'an', 'added', 'tie', 'between', 'us!\"', 'He', 'laughed', 'slightly,', 'without', 'bitterness,', 'and', 'pushed', 'one', 'of', 'the', 'deep', 'arm-chairs', 'forward.', '\"There:', 'make', 'yourself', 'comfortable--and', 'here', 'are', 'the', 'cigars', 'you', 'like.\"', 'He', 'placed', 'them', 'at', 'my', 'elbow', 'and', 'continued', 'to', 'wander', 'up', 'and', 'down', 'the', 'room,', 'stopping', 'now', 'and', 'then', 'beneath', 'the', 'picture.', '\"How', 'it', 'happened?', 'I', 'can', 'tell', 'you', 'in', 'five', 'minutes--and', 'it', \"didn't\", 'take', 'much', 'longer', 'to', 'happen.', '.', '.', '.', 'I', 'can', 'remember', 'now', 'how', 'surprised', 'and', 'pleased', 'I', 'was', 'when', 'I', 'got', 'Mrs.', \"Stroud's\", 'note.', 'Of', 'course,', 'deep', 'down,', 'I', 'had', 'always', '_felt_', 'there', 'was', 'no', 'one', 'like', 'him--only', 'I', 'had', 'gone', 'with', 'the', 'stream,', 'echoed', 'the', 'usual', 'platitudes', 'about', 'him,', 'till', 'I', 'half', 'got', 'to', 'think', 'he', 'was', 'a', 'failure,', 'one', 'of', 'the', 'kind', 'that', 'are', 'left', 'behind.', 'By', 'Jove,', 'and', 'he', '_was_', 'left', 'behind--because', 'he', 'had', 'come', 'to', 'stay!', 'The', 'rest', 'of', 'us', 'had', 'to', 'let', 'ourselves', 'be', 'swept', 'along', 'or', 'go', 'under,', 'but', 'he', 'was', 'high', 'above', 'the', 'current--on', 'everlasting', 'foundations,', 'as', 'you', 'say.', '\"Well,', 'I', 'went', 'off', 'to', 'the', 'house', 'in', 'my', 'most', 'egregious', 'mood--rather', 'moved,', 'Lord', 'forgive', 'me,', 'at', 'the', 'pathos', 'of', 'poor', \"Stroud's\", 'career', 'of', 'failure', 'being', 'crowned', 'by', 'the', 'glory', 'of', 'my', 'painting', 'him!', 'Of', 'course', 'I', 'meant', 'to', 'do', 'the', 'picture', 'for', 'nothing--I', 'told', 'Mrs.', 'Stroud', 'so', 'when', 'she', 'began', 'to', 'stammer', 'something', 'about', 'her', 'poverty.', 'I', 'remember', 'getting', 'off', 'a', 'prodigious', 'phrase', 'about', 'the', 'honour', 'being', '_mine_--oh,', 'I', 'was', 'princely,', 'my', 'dear', 'Rickham!', 'I', 'was', 'posing', 'to', 'myself', 'like', 'one', 'of', 'my', 'own', 'sitters.', '\"Then', 'I', 'was', 'taken', 'up', 'and', 'left', 'alone', 'with', 'him.', 'I', 'had', 'sent', 'all', 'my', 'traps', 'in', 'advance,', 'and', 'I', 'had', 'only', 'to', 'set', 'up', 'the', 'easel', 'and', 'get', 'to', 'work.', 'He', 'had', 'been', 'dead', 'only', 'twenty-four', 'hours,', 'and', 'he', 'died', 'suddenly,', 'of', 'heart', 'disease,', 'so', 'that', 'there', 'had', 'been', 'no', 'preliminary', 'work', 'of', 'destruction--his', 'face', 'was', 'clear', 'and', 'untouched.', 'I', 'had', 'met', 'him', 'once', 'or', 'twice,', 'years', 'before,', 'and', 'thought', 'him', 'insignificant', 'and', 'dingy.', 'Now', 'I', 'saw', 'that', 'he', 'was', 'superb.', '\"I', 'was', 'glad', 'at', 'first,', 'with', 'a', 'merely', 'aesthetic', 'satisfaction:', 'glad', 'to', 'have', 'my', 'hand', 'on', 'such', 'a', \"'subject.'\", 'Then', 'his', 'strange', 'life-likeness', 'began', 'to', 'affect', 'me', 'queerly--as', 'I', 'blocked', 'the', 'head', 'in', 'I', 'felt', 'as', 'if', 'he', 'were', 'watching', 'me', 'do', 'it.', 'The', 'sensation', 'was', 'followed', 'by', 'the', 'thought:', 'if', 'he', '_were_', 'watching', 'me,', 'what', 'would', 'he', 'say', 'to', 'my', 'way', 'of', 'working?', 'My', 'strokes', 'began', 'to', 'go', 'a', 'little', 'wild--I', 'felt', 'nervous', 'and', 'uncertain.', '\"Once,', 'when', 'I', 'looked', 'up,', 'I', 'seemed', 'to', 'see', 'a', 'smile', 'behind', 'his', 'close', 'grayish', 'beard--as', 'if', 'he', 'had', 'the', 'secret,', 'and', 'were', 'amusing', 'himself', 'by', 'holding', 'it', 'back', 'from', 'me.', 'That', 'exasperated', 'me', 'still', 'more.', 'The', 'secret?', 'Why,', 'I', 'had', 'a', 'secret', 'worth', 'twenty', 'of', 'his!', 'I', 'dashed', 'at', 'the', 'canvas', 'furiously,', 'and', 'tried', 'some', 'of', 'my', 'bravura', 'tricks.', 'But', 'they', 'failed', 'me,', 'they', 'crumbled.', 'I', 'saw', 'that', 'he', \"wasn't\", 'watching', 'the', 'showy', 'bits--I', \"couldn't\", 'distract', 'his', 'attention;', 'he', 'just', 'kept', 'his', 'eyes', 'on', 'the', 'hard', 'passages', 'between.', 'Those', 'were', 'the', 'ones', 'I', 'had', 'always', 'shirked,', 'or', 'covered', 'up', 'with', 'some', 'lying', 'paint.', 'And', 'how', 'he', 'saw', 'through', 'my', 'lies!', '\"I', 'looked', 'up', 'again,', 'and', 'caught', 'sight', 'of', 'that', 'sketch', 'of', 'the', 'donkey', 'hanging', 'on', 'the', 'wall', 'near', 'his', 'bed.', 'His', 'wife', 'told', 'me', 'afterward', 'it', 'was', 'the', 'last', 'thing', 'he', 'had', 'done--just', 'a', 'note', 'taken', 'with', 'a', 'shaking', 'hand,', 'when', 'he', 'was', 'down', 'in', 'Devonshire', 'recovering', 'from', 'a', 'previous', 'heart', 'attack.', 'Just', 'a', 'note!', 'But', 'it', 'tells', 'his', 'whole', 'history.', 'There', 'are', 'years', 'of', 'patient', 'scornful', 'persistence', 'in', 'every', 'line.', 'A', 'man', 'who', 'had', 'swum', 'with', 'the', 'current', 'could', 'never', 'have', 'learned', 'that', 'mighty', 'up-stream', 'stroke.', '.', '.', '.', '\"I', 'turned', 'back', 'to', 'my', 'work,', 'and', 'went', 'on', 'groping', 'and', 'muddling;', 'then', 'I', 'looked', 'at', 'the', 'donkey', 'again.', 'I', 'saw', 'that,', 'when', 'Stroud', 'laid', 'in', 'the', 'first', 'stroke,', 'he', 'knew', 'just', 'what', 'the', 'end', 'would', 'be.', 'He', 'had', 'possessed', 'his', 'subject,', 'absorbed', 'it,', 'recreated', 'it.', 'When', 'had', 'I', 'done', 'that', 'with', 'any', 'of', 'my', 'things?', 'They', \"hadn't\", 'been', 'born', 'of', 'me--I', 'had', 'just', 'adopted', 'them.', '.', '.', '.', '\"Hang', 'it,', 'Rickham,', 'with', 'that', 'face', 'watching', 'me', 'I', \"couldn't\", 'do', 'another', 'stroke.', 'The', 'plain', 'truth', 'was,', 'I', \"didn't\", 'know', 'where', 'to', 'put', 'it--_I', 'had', 'never', 'known_.', 'Only,', 'with', 'my', 'sitters', 'and', 'my', 'public,', 'a', 'showy', 'splash', 'of', 'colour', 'covered', 'up', 'the', 'fact--I', 'just', 'threw', 'paint', 'into', 'their', 'faces.', '.', '.', '.', 'Well,', 'paint', 'was', 'the', 'one', 'medium', 'those', 'dead', 'eyes', 'could', 'see', 'through--see', 'straight', 'to', 'the', 'tottering', 'foundations', 'underneath.', \"Don't\", 'you', 'know', 'how,', 'in', 'talking', 'a', 'foreign', 'language,', 'even', 'fluently,', 'one', 'says', 'half', 'the', 'time', 'not', 'what', 'one', 'wants', 'to', 'but', 'what', 'one', 'can?', 'Well--that', 'was', 'the', 'way', 'I', 'painted;', 'and', 'as', 'he', 'lay', 'there', 'and', 'watched', 'me,', 'the', 'thing', 'they', 'called', 'my', \"'technique'\", 'collapsed', 'like', 'a', 'house', 'of', 'cards.', 'He', \"didn't\", 'sneer,', 'you', 'understand,', 'poor', 'Stroud--he', 'just', 'lay', 'there', 'quietly', 'watching,', 'and', 'on', 'his', 'lips,', 'through', 'the', 'gray', 'beard,', 'I', 'seemed', 'to', 'hear', 'the', 'question:', \"'Are\", 'you', 'sure', 'you', 'know', 'where', \"you're\", 'coming', \"out?'\", '\"If', 'I', 'could', 'have', 'painted', 'that', 'face,', 'with', 'that', 'question', 'on', 'it,', 'I', 'should', 'have', 'done', 'a', 'great', 'thing.', 'The', 'next', 'greatest', 'thing', 'was', 'to', 'see', 'that', 'I', \"couldn't--and\", 'that', 'grace', 'was', 'given', 'me.', 'But,', 'oh,', 'at', 'that', 'minute,', 'Rickham,', 'was', 'there', 'anything', 'on', 'earth', 'I', \"wouldn't\", 'have', 'given', 'to', 'have', 'Stroud', 'alive', 'before', 'me,', 'and', 'to', 'hear', 'him', 'say:', \"'It's\", 'not', 'too', \"late--I'll\", 'show', 'you', \"how'?\", '\"It', '_was_', 'too', 'late--it', 'would', 'have', 'been,', 'even', 'if', \"he'd\", 'been', 'alive.', 'I', 'packed', 'up', 'my', 'traps,', 'and', 'went', 'down', 'and', 'told', 'Mrs.', 'Stroud.', 'Of', 'course', 'I', \"didn't\", 'tell', 'her', '_that_--it', 'would', 'have', 'been', 'Greek', 'to', 'her.', 'I', 'simply', 'said', 'I', \"couldn't\", 'paint', 'him,', 'that', 'I', 'was', 'too', 'moved.', 'She', 'rather', 'liked', 'the', \"idea--she's\", 'so', 'romantic!', 'It', 'was', 'that', 'that', 'made', 'her', 'give', 'me', 'the', 'donkey.', 'But', 'she', 'was', 'terribly', 'upset', 'at', 'not', 'getting', 'the', 'portrait--she', 'did', 'so', 'want', 'him', \"'done'\", 'by', 'some', 'one', 'showy!', 'At', 'first', 'I', 'was', 'afraid', 'she', \"wouldn't\", 'let', 'me', 'off--and', 'at', 'my', \"wits'\", 'end', 'I', 'suggested', 'Grindle.', 'Yes,', 'it', 'was', 'I', 'who', 'started', 'Grindle:', 'I', 'told', 'Mrs.', 'Stroud', 'he', 'was', 'the', \"'coming'\", 'man,', 'and', 'she', 'told', 'somebody', 'else,', 'and', 'so', 'it', 'got', 'to', 'be', 'true.', '.', '.', '.', 'And', 'he', 'painted', 'Stroud', 'without', 'wincing;', 'and', 'she', 'hung', 'the', 'picture', 'among', 'her', \"husband's\", 'things.', '.', '.', '.\"', 'He', 'flung', 'himself', 'down', 'in', 'the', 'arm-chair', 'near', 'mine,', 'laid', 'back', 'his', 'head,', 'and', 'clasping', 'his', 'arms', 'beneath', 'it,', 'looked', 'up', 'at', 'the', 'picture', 'above', 'the', 'chimney-piece.', '\"I', 'like', 'to', 'fancy', 'that', 'Stroud', 'himself', 'would', 'have', 'given', 'it', 'to', 'me,', 'if', \"he'd\", 'been', 'able', 'to', 'say', 'what', 'he', 'thought', 'that', 'day.\"', 'And,', 'in', 'answer', 'to', 'a', 'question', 'I', 'put', 'half-mechanically--\"Begin', 'again?\"', 'he', 'flashed', 'out.', '\"When', 'the', 'one', 'thing', 'that', 'brings', 'me', 'anywhere', 'near', 'him', 'is', 'that', 'I', 'knew', 'enough', 'to', 'leave', 'off?\"', 'He', 'stood', 'up', 'and', 'laid', 'his', 'hand', 'on', 'my', 'shoulder', 'with', 'a', 'laugh.', '\"Only', 'the', 'irony', 'of', 'it', 'is', 'that', 'I', '_am_', 'still', 'painting--since', \"Grindle's\", 'doing', 'it', 'for', 'me!', 'The', 'Strouds', 'stand', 'alone,', 'and', 'happen', 'once--but', \"there's\", 'no', 'exterminating', 'our', 'kind', 'of', 'art.\"']\n"
     ]
    }
   ],
   "source": [
    "preprocess=content.split()\n",
    "print(preprocess)"
   ]
  },
  {
   "cell_type": "code",
   "execution_count": 87,
   "metadata": {},
   "outputs": [
    {
     "name": "stdout",
     "output_type": "stream",
     "text": [
      "Number of character in text : 20479\n",
      "I HAD always thought Jack Gisburn rather a cheap genius--though a good fellow enough--so it was no great surprise to me to hear that, in the height of\n"
     ]
    }
   ],
   "source": [
    "# printing first 150 characters from content\n",
    "print(\"Number of character in text :\",len(content))\n",
    "t=content[:100]\n",
    "print(content[:150])"
   ]
  },
  {
   "cell_type": "markdown",
   "metadata": {},
   "source": [
    "#### Note that its common to process millions of articles and hundreds and thousands of book for training llm but for education purposes i am working with only one book "
   ]
  },
  {
   "cell_type": "code",
   "execution_count": 7,
   "metadata": {},
   "outputs": [
    {
     "name": "stdout",
     "output_type": "stream",
     "text": [
      "['hello,', ' ', 'world', ' ', 'how', ' ', 'are', ' ', 'you.']\n"
     ]
    }
   ],
   "source": [
    "import re\n",
    "print(re.split(r'(\\s)',text))"
   ]
  },
  {
   "cell_type": "code",
   "execution_count": 9,
   "metadata": {},
   "outputs": [],
   "source": [
    "text=\"hello, world how are you.\"\n",
    "result=re.split(r'([,.]|\\s)',text)"
   ]
  },
  {
   "cell_type": "code",
   "execution_count": 10,
   "metadata": {},
   "outputs": [
    {
     "data": {
      "text/plain": [
       "13"
      ]
     },
     "execution_count": 10,
     "metadata": {},
     "output_type": "execute_result"
    }
   ],
   "source": [
    "len(result)"
   ]
  },
  {
   "cell_type": "code",
   "execution_count": 12,
   "metadata": {},
   "outputs": [
    {
     "name": "stdout",
     "output_type": "stream",
     "text": [
      "['hello', ',', 'world', 'how', 'are', 'you', '.']\n"
     ]
    }
   ],
   "source": [
    "result=[item for item in result if item.strip()]\n",
    "print(result)"
   ]
  },
  {
   "cell_type": "markdown",
   "metadata": {},
   "source": [
    "##### Creating token for the verdict text"
   ]
  },
  {
   "cell_type": "code",
   "execution_count": 90,
   "metadata": {},
   "outputs": [
    {
     "name": "stdout",
     "output_type": "stream",
     "text": [
      "['I', 'HAD', 'always', 'thought', 'Jack', 'Gisburn', 'rather', 'a', 'cheap', 'genius']\n"
     ]
    }
   ],
   "source": [
    "preprocessing=re.split(r'([,.:;?_!\"()\\']|--|\\s)',content)\n",
    "tokenised_content=[item for item in preprocessing if item.strip()]\n",
    "print(tokenised_content[:10])"
   ]
  },
  {
   "cell_type": "code",
   "execution_count": 91,
   "metadata": {},
   "outputs": [
    {
     "name": "stdout",
     "output_type": "stream",
     "text": [
      "4690\n"
     ]
    }
   ],
   "source": [
    "print(len(tokenised_content))"
   ]
  },
  {
   "cell_type": "markdown",
   "metadata": {},
   "source": [
    "#### Creating Token ID"
   ]
  },
  {
   "cell_type": "markdown",
   "metadata": {},
   "source": [
    "##### in tokenids we give a unique tokenid to each token in the vocabulary "
   ]
  },
  {
   "cell_type": "code",
   "execution_count": 93,
   "metadata": {},
   "outputs": [
    {
     "name": "stdout",
     "output_type": "stream",
     "text": [
      "['!', '\"', \"'\", '(', ')', ',', '--', '.', ':', ';']\n"
     ]
    }
   ],
   "source": [
    "allwords=sorted(set(tokenised_content))\n",
    "print(allwords[:10])"
   ]
  },
  {
   "cell_type": "code",
   "execution_count": 39,
   "metadata": {},
   "outputs": [],
   "source": [
    "symbols = ['!', '\"', \"'\", '(', ')', ',', '--', '.', ':', ';', '?']\n",
    "allwords=[item for item in allwords if item not in symbols]\n",
    "sorted_tokenised_content=sorted(set(allwords))"
   ]
  },
  {
   "cell_type": "code",
   "execution_count": 41,
   "metadata": {},
   "outputs": [
    {
     "name": "stdout",
     "output_type": "stream",
     "text": [
      "['A', 'Ah', 'Among', 'And', 'Are', 'Arrt', 'As', 'At', 'Be', 'Begin', 'Burlington', 'But', 'By', 'Carlo', 'Chicago', 'Claude', 'Come', 'Croft', 'Destroyed', 'Devonshire', 'Don', 'Dubarry', 'Emperors', 'Florence', 'For', 'Gallery', 'Gideon', 'Gisburn', 'Gisburns', 'Grafton', 'Greek', 'Grindle', 'Grindles', 'HAD', 'Had', 'Hang', 'Has', 'He', 'Her', 'Hermia', 'His', 'How', 'I', 'If', 'In', 'It', 'Jack', 'Jove', 'Just', 'Lord', 'Made', 'Miss', 'Money', 'Monte', 'Moon-dancers', 'Mr', 'Mrs', 'My', 'Never', 'No', 'Now', 'Nutley', 'Of', 'Oh', 'On', 'Once', 'Only', 'Or', 'Perhaps', 'Poor', 'Professional', 'Renaissance', 'Rickham', 'Riviera', 'Rome', 'Russian', 'Sevres', 'She', 'Stroud', 'Strouds', 'Suddenly', 'That', 'The', 'Then', 'There', 'They', 'This', 'Those', 'Though', 'Thwing', 'Thwings', 'To', 'Usually', 'Venetian', 'Victor', 'Was', 'We', 'Well', 'What', 'When', 'Why', 'Yes', 'You', '_', 'a', 'abdication', 'able', 'about', 'above', 'abruptly', 'absolute', 'absorbed', 'absurdity', 'academic', 'accuse', 'accustomed', 'across', 'activity', 'add', 'added', 'admirers', 'adopted', 'adulation', 'advance', 'aesthetic', 'affect', 'afraid', 'after', 'afterward', 'again', 'ago', 'ah', 'air', 'alive', 'all', 'almost', 'alone', 'along', 'always', 'am', 'amazement', 'amid', 'among', 'amplest', 'amusing', 'an', 'and', 'another', 'answer', 'answered', 'any', 'anything', 'anywhere', 'apparent', 'apparently', 'appearance', 'appeared', 'appointed', 'are', 'arm', 'arm-chair', 'arm-chairs', 'arms', 'art', 'articles', 'artist', 'as', 'aside', 'asked', 'at', 'atmosphere', 'atom', 'attack', 'attention', 'attitude', 'audacities', 'away', 'awful', 'axioms', 'azaleas', 'back', 'background', 'balance', 'balancing', 'balustraded', 'basking', 'bath-rooms', 'be', 'beaming', 'bean-stalk', 'bear', 'beard', 'beauty', 'became', 'because', 'becoming', 'bed', 'been', 'before', 'began', 'begun', 'behind', 'being', 'believed', 'beneath', 'bespoke', 'better', 'between', 'big', 'bits', 'bitterness', 'blocked', 'born', 'borne', 'boudoir', 'bravura', 'break', 'breaking', 'breathing', 'bric-a-brac', 'briefly', 'brings', 'bronzes', 'brought', 'brown', 'brush', 'bull', 'business', 'but', 'buying', 'by', 'called', 'came', 'can', 'canvas', 'canvases', 'cards', 'care', 'career', 'caught', 'central', 'chair', 'chap', 'characteristic', 'charming', 'cheap', 'check', 'cheeks', 'chest', 'chimney-piece', 'chucked', 'cigar', 'cigarette', 'cigars', 'circulation', 'circumstance', 'circus-clown', 'claimed', 'clasping', 'clear', 'cleverer', 'close', 'clue', 'coat', 'collapsed', 'colour', 'come', 'comfortable', 'coming', 'companion', 'compared', 'complex', 'confident', 'congesting', 'conjugal', 'constraint', 'consummate', 'contended', 'continued', 'corner', 'corrected', 'could', 'couldn', 'count', 'countenance', 'couple', 'course', 'covered', 'craft', 'cried', 'crossed', 'crowned', 'crumbled', 'cry', 'cured', 'curiosity', 'curious', 'current', 'curtains', 'd', 'dabble', 'damask', 'dark', 'dashed', 'day', 'days', 'dead', 'deadening', 'dear', 'deep', 'deerhound', 'degree', 'delicate', 'demand', 'denied', 'deploring', 'deprecating', 'deprecatingly', 'desire', 'destroyed', 'destruction', 'desultory', 'detail', 'diagnosis', 'did', 'didn', 'died', 'dim', 'dimmest', 'dingy', 'dining-room', 'disarming', 'discovery', 'discrimination', 'discussion', 'disdain', 'disdained', 'disease', 'disguised', 'display', 'dissatisfied', 'distinguished', 'distract', 'divert', 'do', 'doesn', 'doing', 'domestic', 'don', 'done', 'donkey', 'down', 'dozen', 'dragged', 'drawing-room', 'drawing-rooms', 'drawn', 'dress-closets', 'drew', 'dropped', 'each', 'earth', 'ease', 'easel', 'easy', 'echoed', 'economy', 'effect', 'effects', 'efforts', 'egregious', 'eighteenth-century', 'elbow', 'elegant', 'else', 'embarrassed', 'enabled', 'end', 'endless', 'enjoy', 'enlightenment', 'enough', 'ensuing', 'equally', 'equanimity', 'escape', 'established', 'etching', 'even', 'event', 'ever', 'everlasting', 'every', 'exasperated', 'except', 'excuse', 'excusing', 'existed', 'expected', 'exquisite', 'exquisitely', 'extenuation', 'exterminating', 'extracting', 'eye', 'eyebrows', 'eyes', 'face', 'faces', 'fact', 'faded', 'failed', 'failure', 'fair', 'faith', 'false', 'familiar', 'famille-verte', 'fancy', 'fashionable', 'fate', 'feather', 'feet', 'fell', 'fellow', 'felt', 'few', 'fewer', 'finality', 'find', 'fingers', 'first', 'fit', 'fitting', 'five', 'flash', 'flashed', 'florid', 'flowers', 'fluently', 'flung', 'follow', 'followed', 'fond', 'footstep', 'for', 'forced', 'forcing', 'forehead', 'foreign', 'foreseen', 'forgive', 'forgotten', 'form', 'formed', 'forming', 'forward', 'fostered', 'found', 'foundations', 'fragment', 'fragments', 'frame', 'frames', 'frequently', 'friend', 'from', 'full', 'fullest', 'furiously', 'furrowed', 'garlanded', 'garlands', 'gave', 'genial', 'genius', 'gesture', 'get', 'getting', 'give', 'given', 'glad', 'glanced', 'glimpse', 'gloried', 'glory', 'go', 'going', 'gone', 'good', 'good-breeding', 'good-humoured', 'got', 'grace', 'gradually', 'gray', 'grayish', 'great', 'greatest', 'greatness', 'grew', 'groping', 'growing', 'had', 'hadn', 'hair', 'half', 'half-light', 'half-mechanically', 'hall', 'hand', 'hands', 'handsome', 'hanging', 'happen', 'happened', 'hard', 'hardly', 'has', 'have', 'haven', 'having', 'he', 'head', 'hear', 'heard', 'heart', 'height', 'her', 'here', 'hermit', 'herself', 'hesitations', 'hide', 'high', 'him', 'himself', 'hint', 'his', 'history', 'holding', 'home', 'honour', 'hooded', 'hostess', 'hot-house', 'hour', 'hours', 'house', 'how', 'hung', 'husband', 'idea', 'idle', 'idling', 'if', 'immediately', 'in', 'incense', 'indifferent', 'inevitable', 'inevitably', 'inflexible', 'insensible', 'insignificant', 'instinctively', 'instructive', 'interesting', 'into', 'ironic', 'irony', 'irrelevance', 'irrevocable', 'is', 'it', 'its', 'itself', 'jardiniere', 'jealousy', 'just', 'keep', 'kept', 'kind', 'knees', 'knew', 'know', 'known', 'laid', 'lair', 'landing', 'language', 'last', 'late', 'later', 'latter', 'laugh', 'laughed', 'lay', 'leading', 'lean', 'learned', 'least', 'leathery', 'leave', 'led', 'left', 'leisure', 'lends', 'lent', 'let', 'lies', 'life', 'life-likeness', 'lift', 'lifted', 'light', 'lightly', 'like', 'liked', 'line', 'lines', 'lingered', 'lips', 'lit', 'little', 'live', 'll', 'loathing', 'long', 'longed', 'longer', 'look', 'looked', 'looking', 'lose', 'loss', 'lounging', 'lovely', 'lucky', 'lump', 'luncheon-table', 'luxury', 'lying', 'made', 'make', 'man', 'manage', 'managed', 'mantel-piece', 'marble', 'married', 'may', 'me', 'meant', 'mediocrity', 'medium', 'mentioned', 'mere', 'merely', 'met', 'might', 'mighty', 'millionaire', 'mine', 'minute', 'minutes', 'mirrors', 'modest', 'modesty', 'moment', 'money', 'monumental', 'mood', 'morbidly', 'more', 'most', 'mourn', 'mourned', 'moustache', 'moved', 'much', 'muddling', 'multiplied', 'murmur', 'muscles', 'must', 'my', 'myself', 'mysterious', 'naive', 'near', 'nearly', 'negatived', 'nervous', 'nervousness', 'neutral', 'never', 'next', 'no', 'none', 'not', 'note', 'nothing', 'now', 'nymphs', 'oak', 'obituary', 'object', 'objects', 'occurred', 'oddly', 'of', 'off', 'often', 'oh', 'old', 'on', 'once', 'one', 'ones', 'only', 'onto', 'open', 'or', 'other', 'our', 'ourselves', 'out', 'outline', 'oval', 'over', 'own', 'packed', 'paid', 'paint', 'painted', 'painter', 'painting', 'pale', 'paled', 'palm-trees', 'panel', 'panelling', 'pardonable', 'pardoned', 'part', 'passages', 'passing', 'past', 'pastels', 'pathos', 'patient', 'people', 'perceptible', 'perfect', 'persistence', 'persuasively', 'phrase', 'picture', 'pictures', 'pines', 'pink', 'place', 'placed', 'plain', 'platitudes', 'pleased', 'pockets', 'point', 'poised', 'poor', 'portrait', 'posing', 'possessed', 'poverty', 'predicted', 'preliminary', 'presenting', 'prestidigitation', 'pretty', 'previous', 'price', 'pride', 'princely', 'prism', 'problem', 'proclaiming', 'prodigious', 'profusion', 'protest', 'prove', 'public', 'purblind', 'purely', 'pushed', 'put', 'qualities', 'quality', 'queerly', 'question', 'quickly', 'quietly', 'quite', 'quote', 'rain', 'raised', 'random', 'rather', 're', 'real', 'really', 'reared', 'reason', 'reassurance', 'recovering', 'recreated', 'reflected', 'reflection', 'regrets', 'relatively', 'remained', 'remember', 'reminded', 'repeating', 'represented', 'reproduction', 'resented', 'resolve', 'resources', 'rest', 'rich', 'ridiculous', 'robbed', 'romantic', 'room', 'rose', 'rs', 'rule', 'run', 's', 'said', 'same', 'satisfaction', 'savour', 'saw', 'say', 'saying', 'says', 'scorn', 'scornful', 'secret', 'see', 'seemed', 'seen', 'self-confident', 'send', 'sensation', 'sensitive', 'sent', 'serious', 'set', 'sex', 'shade', 'shaking', 'shall', 'she', 'shirked', 'short', 'should', 'shoulder', 'shoulders', 'show', 'showed', 'showy', 'shrug', 'shrugged', 'sight', 'sign', 'silent', 'silver', 'similar', 'simpleton', 'simplifications', 'simply', 'since', 'single', 'sitter', 'sitters', 'sketch', 'skill', 'slight', 'slightly', 'slowly', 'small', 'smile', 'smiling', 'sneer', 'so', 'solace', 'some', 'somebody', 'something', 'spacious', 'spaniel', 'speaking-tubes', 'speculations', 'spite', 'splash', 'square', 'stairs', 'stammer', 'stand', 'standing', 'started', 'stay', 'still', 'stocked', 'stood', 'stopped', 'stopping', 'straddling', 'straight', 'strain', 'straining', 'strange', 'straw', 'stream', 'stroke', 'strokes', 'strolled', 'strongest', 'strongly', 'struck', 'studio', 'stuff', 'subject', 'substantial', 'suburban', 'such', 'suddenly', 'suffered', 'sugar', 'suggested', 'sunburn', 'sunburnt', 'sunlit', 'superb', 'sure', 'surest', 'surface', 'surprise', 'surprised', 'surrounded', 'suspected', 'sweetly', 'sweetness', 'swelling', 'swept', 'swum', 't', 'table', 'take', 'taken', 'talking', 'tea', 'tears', 'technicalities', 'technique', 'tell', 'tells', 'tempting', 'terra-cotta', 'terrace', 'terraces', 'terribly', 'than', 'that', 'the', 'their', 'them', 'then', 'there', 'therefore', 'they', 'thin', 'thing', 'things', 'think', 'this', 'thither', 'those', 'though', 'thought', 'three', 'threshold', 'threw', 'through', 'throwing', 'tie', 'till', 'time', 'timorously', 'tinge', 'tips', 'tired', 'to', 'told', 'tone', 'tones', 'too', 'took', 'tottering', 'touched', 'toward', 'trace', 'trade', 'transmute', 'traps', 'travelled', 'tribute', 'tributes', 'tricks', 'tried', 'trouser-presses', 'true', 'truth', 'turned', 'twenty', 'twenty-four', 'twice', 'twirling', 'unaccountable', 'uncertain', 'under', 'underlay', 'underneath', 'understand', 'unexpected', 'untouched', 'unusual', 'up', 'up-stream', 'upon', 'upset', 'upstairs', 'us', 'used', 'usual', 'value', 'varnishing', 'vases', 've', 'veins', 'velveteen', 'very', 'villa', 'vindicated', 'virtuosity', 'vista', 'vocation', 'voice', 'wall', 'wander', 'want', 'wanted', 'wants', 'was', 'wasn', 'watched', 'watching', 'water-colour', 'waves', 'way', 'weekly', 'weeks', 'welcome', 'went', 'were', 'what', 'when', 'whenever', 'where', 'which', 'while', 'white', 'white-panelled', 'who', 'whole', 'whom', 'why', 'wide', 'widow', 'wife', 'wild', 'wincing', 'window-curtains', 'wish', 'with', 'without', 'wits', 'woman', 'women', 'won', 'wonder', 'wondered', 'word', 'work', 'working', 'worth', 'would', 'wouldn', 'year', 'years', 'yellow', 'yet', 'you', 'younger', 'your', 'yourself']\n"
     ]
    }
   ],
   "source": [
    "print(sorted_tokenised_content)"
   ]
  },
  {
   "cell_type": "code",
   "execution_count": 94,
   "metadata": {},
   "outputs": [
    {
     "name": "stdout",
     "output_type": "stream",
     "text": [
      "1130\n"
     ]
    }
   ],
   "source": [
    "vocb_size=len(allwords)\n",
    "print(vocb_size)"
   ]
  },
  {
   "cell_type": "code",
   "execution_count": 95,
   "metadata": {},
   "outputs": [],
   "source": [
    "vocab_token={token:integer for integer,token in enumerate(allwords)}"
   ]
  },
  {
   "cell_type": "code",
   "execution_count": 97,
   "metadata": {},
   "outputs": [
    {
     "name": "stdout",
     "output_type": "stream",
     "text": [
      "('!', 0)\n",
      "('\"', 1)\n",
      "(\"'\", 2)\n",
      "('(', 3)\n",
      "(')', 4)\n",
      "(',', 5)\n",
      "('--', 6)\n",
      "('.', 7)\n",
      "(':', 8)\n",
      "(';', 9)\n",
      "('?', 10)\n",
      "('A', 11)\n",
      "('Ah', 12)\n",
      "('Among', 13)\n",
      "('And', 14)\n",
      "('Are', 15)\n",
      "('Arrt', 16)\n",
      "('As', 17)\n",
      "('At', 18)\n",
      "('Be', 19)\n",
      "('Begin', 20)\n"
     ]
    }
   ],
   "source": [
    "for i,item in enumerate(vocab_token.items()):\n",
    "    print(item)\n",
    "    if i>=20:\n",
    "        break"
   ]
  },
  {
   "cell_type": "markdown",
   "metadata": {},
   "source": [
    "##### Implemeting Tokenizer class in python which contains encoder and decoder, encoder help in converting text into tokenids where as decoder helps in decoding token id into token and tokens to text"
   ]
  },
  {
   "cell_type": "code",
   "execution_count": null,
   "metadata": {},
   "outputs": [],
   "source": [
    "class SampleTokenizer():\n",
    "    def __init__(self,vocab):\n",
    "        self.str_to_int=vocab\n",
    "        self.int_to_str={i:s for s,i in vocab.items()}\n",
    "        \n",
    "    def encode(self,text):\n",
    "        preprocessed=re.split(r'([,.:;?_!\"()\\']|--|\\s)', text)\n",
    "                                \n",
    "        preprocessed = [\n",
    "            item.strip() for item in preprocessed if item.strip()\n",
    "        ]\n",
    "        ids = [self.str_to_int[item] for item in preprocessed]\n",
    "        return ids\n",
    "    def decode(self,ids):\n",
    "        text=\" \".join([self.int_to_str[i] for i in ids])\n",
    "        # Replace Spaces before the specified punctuations\n",
    "        text=re.sub(r'\\s+([,.?!\"()\\'])',r'\\1',text)\n",
    "        return text\n",
    "        "
   ]
  },
  {
   "cell_type": "code",
   "execution_count": 110,
   "metadata": {},
   "outputs": [
    {
     "name": "stdout",
     "output_type": "stream",
     "text": [
      "[1, 56, 2, 850, 988, 602, 533, 746, 5, 1126, 596, 5, 1, 67, 7, 38, 851, 1108, 754, 793, 7]\n"
     ]
    }
   ],
   "source": [
    "tokenizer=SampleTokenizer(vocab_token)\n",
    "text = \"\"\"\"It's the last he painted, you know,\" \n",
    "           Mrs. Gisburn said with pardonable pride.\"\"\"\n",
    "           \n",
    "ids=tokenizer.encode(text)\n",
    "print(ids)"
   ]
  },
  {
   "cell_type": "code",
   "execution_count": 121,
   "metadata": {},
   "outputs": [
    {
     "data": {
      "text/plain": [
       "'\" It\\' s the last he painted, you know,\" Mrs. Gisburn said with pardonable pride.'"
      ]
     },
     "execution_count": 121,
     "metadata": {},
     "output_type": "execute_result"
    }
   ],
   "source": [
    "tokenizer.decode(ids)"
   ]
  },
  {
   "cell_type": "markdown",
   "metadata": {},
   "source": [
    "##### If we search the elements which are not present in vocabulary it is going raise an error so thats why if you dont want such type of error in production llms we train llms on huge amounts of the data so that these type of error may not occur in the production.\n",
    "\n",
    "##### LLMS like chatGpt add a special kind of context tokens so that this type of errors may not occur"
   ]
  },
  {
   "cell_type": "markdown",
   "metadata": {},
   "source": [
    "#### Adding Special context Tokens\n",
    "\n",
    "* Here we modify the tokenizer to handle the unknown words.\n",
    "* Here we try to add 2 tokens <|unk|> and <|end of token|>, <|unk|> token to add if we dont known or it is not present in the vocabulary then we add the <|unk|> token value for it,and i use <|end of token|> to represent that this is the <|end of token|> token"
   ]
  },
  {
   "cell_type": "code",
   "execution_count": 124,
   "metadata": {},
   "outputs": [
    {
     "data": {
      "text/plain": [
       "1130"
      ]
     },
     "execution_count": 124,
     "metadata": {},
     "output_type": "execute_result"
    }
   ],
   "source": [
    "len(allwords)"
   ]
  },
  {
   "cell_type": "code",
   "execution_count": null,
   "metadata": {},
   "outputs": [],
   "source": [
    "allwords.extend([\"<|endoftext|>\",\"<|UNK|>\"])"
   ]
  },
  {
   "cell_type": "code",
   "execution_count": 139,
   "metadata": {},
   "outputs": [],
   "source": [
    "vocab={word:indx for indx,word in enumerate(allwords)}"
   ]
  },
  {
   "cell_type": "code",
   "execution_count": 141,
   "metadata": {},
   "outputs": [
    {
     "data": {
      "text/plain": [
       "1132"
      ]
     },
     "execution_count": 141,
     "metadata": {},
     "output_type": "execute_result"
    }
   ],
   "source": [
    "len(vocab.items())"
   ]
  },
  {
   "cell_type": "code",
   "execution_count": 145,
   "metadata": {},
   "outputs": [
    {
     "name": "stdout",
     "output_type": "stream",
     "text": [
      "[('<|endoftext|>', 1130), ('<|UNK|>', 1131)]\n"
     ]
    }
   ],
   "source": [
    "print(list(vocab.items())[-2:])"
   ]
  },
  {
   "cell_type": "code",
   "execution_count": 146,
   "metadata": {},
   "outputs": [],
   "source": [
    "class SampleTokenizerV2:\n",
    "    def __init__(self,vocab):\n",
    "        self.str_to_int=vocab\n",
    "        self.int_to_str={i:s for s,i in vocab.items()}\n",
    "        \n",
    "    def encode(self,text):\n",
    "        preprocessed=re.split(r'([,.:;?_!\"()\\']|--|\\s)', text)                 \n",
    "        preprocessed = [\n",
    "            item.strip() for item in preprocessed if item.strip()\n",
    "        ]\n",
    "        preprocessed = [item if item in self.str_to_int else \"<|UNK|>\" for item in preprocessed]\n",
    "        ids=[self.str_to_int[item] for item in preprocessed]\n",
    "        return ids\n",
    "    def decode(self,ids):\n",
    "        text=\" \".join([self.int_to_str[i] for i in ids])\n",
    "        # Replace Spaces before the specified punctuations\n",
    "        text=re.sub(r'\\s+([,.?!\"()\\'])',r'\\1',text)\n",
    "        return text"
   ]
  },
  {
   "cell_type": "code",
   "execution_count": 147,
   "metadata": {},
   "outputs": [],
   "source": [
    "tokenizer=SampleTokenizerV2(vocab)"
   ]
  },
  {
   "cell_type": "code",
   "execution_count": null,
   "metadata": {},
   "outputs": [
    {
     "name": "stdout",
     "output_type": "stream",
     "text": [
      "[1131, 355, 1126, 628, 975]\n"
     ]
    }
   ],
   "source": [
    "text=\"hello do you like tea\""
   ]
  },
  {
   "cell_type": "code",
   "execution_count": 149,
   "metadata": {},
   "outputs": [
    {
     "name": "stdout",
     "output_type": "stream",
     "text": [
      "[1131, 355, 1126, 628, 975]\n"
     ]
    }
   ],
   "source": [
    "ids=tokenizer.encode(text)\n",
    "print(ids)"
   ]
  },
  {
   "cell_type": "code",
   "execution_count": 150,
   "metadata": {},
   "outputs": [
    {
     "data": {
      "text/plain": [
       "'<|UNK|> do you like tea'"
      ]
     },
     "execution_count": 150,
     "metadata": {},
     "output_type": "execute_result"
    }
   ],
   "source": [
    "tokenizer.decode(ids)"
   ]
  },
  {
   "cell_type": "code",
   "execution_count": 152,
   "metadata": {},
   "outputs": [
    {
     "name": "stdout",
     "output_type": "stream",
     "text": [
      "hello do you like tea <|endoftext|> Its great pleasure to meet you\n"
     ]
    }
   ],
   "source": [
    "text1=\"hello do you like tea\"\n",
    "text2=\"Its great pleasure to meet you\"\n",
    "text=\" <|endoftext|> \".join((text1,text2))\n",
    "print(text)"
   ]
  },
  {
   "cell_type": "code",
   "execution_count": 153,
   "metadata": {},
   "outputs": [
    {
     "name": "stdout",
     "output_type": "stream",
     "text": [
      "[1131, 355, 1126, 628, 975, 1130, 1131, 508, 1131, 1016, 1131, 1126]\n"
     ]
    }
   ],
   "source": [
    "ids=tokenizer.encode(text)\n",
    "print(ids)"
   ]
  },
  {
   "cell_type": "code",
   "execution_count": 155,
   "metadata": {},
   "outputs": [
    {
     "data": {
      "text/plain": [
       "'<|UNK|> do you like tea <|endoftext|> <|UNK|> great <|UNK|> to <|UNK|> you'"
      ]
     },
     "execution_count": 155,
     "metadata": {},
     "output_type": "execute_result"
    }
   ],
   "source": [
    "tokenizer.decode(tokenizer.encode(text))"
   ]
  },
  {
   "cell_type": "markdown",
   "metadata": {},
   "source": [
    "#### Byte Pair Encoding"
   ]
  },
  {
   "cell_type": "markdown",
   "metadata": {},
   "source": [
    "Note that the tokenizer used for GPT models does not need any of these tokens mentioned above but only uses an <|endoftext|> token for simplicity\n",
    "\n",
    "The tokenizer used for GPT Models also dont use an <|UNK|> token for out of Vocabulary words, Insted, GPT models use a Byte pair encoding tokenizer, which breaks down words into subword units"
   ]
  },
  {
   "cell_type": "markdown",
   "metadata": {},
   "source": [
    "This section cover most sophisticated tokenization scheme based on concept called byte pair encoding (BPE).\n",
    "\n",
    "The BPE tokenizer covered in this section was used to train LLMS such as GPT-2,GPT-3, and the origin model is used in GPT."
   ]
  },
  {
   "cell_type": "markdown",
   "metadata": {},
   "source": [
    "* Since implementing BPE can be more complicated, we will use an existing Python Open source Library called Tik Token developed by OpenAI"
   ]
  },
  {
   "cell_type": "code",
   "execution_count": 2,
   "metadata": {},
   "outputs": [
    {
     "name": "stdout",
     "output_type": "stream",
     "text": [
      "Tiktoken Version 0.8.0\n"
     ]
    }
   ],
   "source": [
    "import importlib.metadata\n",
    "import tiktoken\n",
    "import importlib\n",
    "print(\"Tiktoken Version\",importlib.metadata.version(\"tiktoken\"))"
   ]
  },
  {
   "cell_type": "code",
   "execution_count": 3,
   "metadata": {},
   "outputs": [],
   "source": [
    "tokenizer=tiktoken.get_encoding(\"gpt2\")"
   ]
  },
  {
   "cell_type": "code",
   "execution_count": 4,
   "metadata": {},
   "outputs": [],
   "source": [
    "text=\"Hello do you like to have tea? <|endoftext|> in the sunlite terraces of someunknownplace. \""
   ]
  },
  {
   "cell_type": "code",
   "execution_count": 5,
   "metadata": {},
   "outputs": [],
   "source": [
    "integers=tokenizer.encode(text,allowed_special={\"<|endoftext|>\"})"
   ]
  },
  {
   "cell_type": "code",
   "execution_count": 7,
   "metadata": {},
   "outputs": [
    {
     "name": "stdout",
     "output_type": "stream",
     "text": [
      "[15496, 466, 345, 588, 284, 423, 8887, 30, 220, 50256, 287, 262, 4252, 36890, 8812, 2114, 286, 617, 34680, 5372, 13, 220]\n"
     ]
    }
   ],
   "source": [
    "print(integers)"
   ]
  },
  {
   "cell_type": "code",
   "execution_count": 8,
   "metadata": {},
   "outputs": [
    {
     "data": {
      "text/plain": [
       "'Hello do you like to have tea? <|endoftext|> in the sunlite terraces of someunknownplace. '"
      ]
     },
     "execution_count": 8,
     "metadata": {},
     "output_type": "execute_result"
    }
   ],
   "source": [
    "tokenizer.decode(integers)"
   ]
  },
  {
   "cell_type": "code",
   "execution_count": 9,
   "metadata": {},
   "outputs": [
    {
     "name": "stdout",
     "output_type": "stream",
     "text": [
      "[34369, 1530, 272, 703, 389, 345, 616, 6726]\n"
     ]
    }
   ],
   "source": [
    "txt=\"bhushan how are you myfriend\"\n",
    "print(tokenizer.encode(txt))"
   ]
  },
  {
   "cell_type": "code",
   "execution_count": null,
   "metadata": {},
   "outputs": [],
   "source": []
  }
 ],
 "metadata": {
  "kernelspec": {
   "display_name": "Python 3",
   "language": "python",
   "name": "python3"
  },
  "language_info": {
   "codemirror_mode": {
    "name": "ipython",
    "version": 3
   },
   "file_extension": ".py",
   "mimetype": "text/x-python",
   "name": "python",
   "nbconvert_exporter": "python",
   "pygments_lexer": "ipython3",
   "version": "3.12.0"
  }
 },
 "nbformat": 4,
 "nbformat_minor": 2
}
